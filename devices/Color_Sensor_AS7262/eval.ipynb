{
 "cells": [
  {
   "cell_type": "code",
   "execution_count": 5,
   "metadata": {},
   "outputs": [
    {
     "name": "stdout",
     "output_type": "stream",
     "text": [
      "(58783, '6', datetime.datetime(2023, 7, 5, 8, 21, 16), 181)\n",
      "(58784, '6', datetime.datetime(2023, 7, 5, 8, 21, 16), 2111)\n",
      "(58785, '6', datetime.datetime(2023, 7, 5, 8, 21, 16), 3109)\n",
      "(58786, '6', datetime.datetime(2023, 7, 5, 8, 21, 16), 476)\n",
      "(58787, '6', datetime.datetime(2023, 7, 5, 8, 21, 16), 584)\n",
      "(58788, '6', datetime.datetime(2023, 7, 5, 8, 21, 16), 653)\n",
      "(58789, '6', datetime.datetime(2023, 7, 5, 8, 21, 17), 181)\n",
      "(58790, '6', datetime.datetime(2023, 7, 5, 8, 21, 17), 2111)\n",
      "(58791, '6', datetime.datetime(2023, 7, 5, 8, 21, 17), 3109)\n",
      "(58792, '6', datetime.datetime(2023, 7, 5, 8, 21, 17), 476)\n",
      "(58793, '6', datetime.datetime(2023, 7, 5, 8, 21, 17), 584)\n",
      "(58794, '6', datetime.datetime(2023, 7, 5, 8, 21, 17), 653)\n",
      "(58795, '6', datetime.datetime(2023, 7, 5, 8, 21, 20), 181)\n",
      "(58796, '6', datetime.datetime(2023, 7, 5, 8, 21, 20), 2111)\n",
      "(58797, '6', datetime.datetime(2023, 7, 5, 8, 21, 20), 3109)\n",
      "(58798, '6', datetime.datetime(2023, 7, 5, 8, 21, 20), 476)\n",
      "(58799, '6', datetime.datetime(2023, 7, 5, 8, 21, 20), 584)\n",
      "(58800, '6', datetime.datetime(2023, 7, 5, 8, 21, 20), 653)\n",
      "(58801, '6', datetime.datetime(2023, 7, 5, 8, 21, 21), 181)\n",
      "(58802, '6', datetime.datetime(2023, 7, 5, 8, 21, 21), 2111)\n",
      "(58803, '6', datetime.datetime(2023, 7, 5, 8, 21, 21), 3109)\n",
      "(58804, '6', datetime.datetime(2023, 7, 5, 8, 21, 21), 476)\n",
      "(58805, '6', datetime.datetime(2023, 7, 5, 8, 21, 21), 584)\n",
      "(58806, '6', datetime.datetime(2023, 7, 5, 8, 21, 21), 653)\n",
      "(58807, '6', datetime.datetime(2023, 7, 5, 8, 21, 24), 181)\n",
      "(58808, '6', datetime.datetime(2023, 7, 5, 8, 21, 24), 2109)\n",
      "(58809, '6', datetime.datetime(2023, 7, 5, 8, 21, 24), 3109)\n",
      "(58810, '6', datetime.datetime(2023, 7, 5, 8, 21, 24), 476)\n",
      "(58811, '6', datetime.datetime(2023, 7, 5, 8, 21, 24), 584)\n",
      "(58812, '6', datetime.datetime(2023, 7, 5, 8, 21, 24), 653)\n",
      "(58813, '6', datetime.datetime(2023, 7, 5, 8, 21, 25), 181)\n",
      "(58814, '6', datetime.datetime(2023, 7, 5, 8, 21, 25), 2109)\n",
      "(58815, '6', datetime.datetime(2023, 7, 5, 8, 21, 25), 3109)\n",
      "(58816, '6', datetime.datetime(2023, 7, 5, 8, 21, 25), 476)\n",
      "(58817, '6', datetime.datetime(2023, 7, 5, 8, 21, 25), 584)\n",
      "(58818, '6', datetime.datetime(2023, 7, 5, 8, 21, 25), 653)\n",
      "(58819, '6', datetime.datetime(2023, 7, 5, 8, 21, 28), 179)\n",
      "(58820, '6', datetime.datetime(2023, 7, 5, 8, 21, 28), 2109)\n",
      "(58821, '6', datetime.datetime(2023, 7, 5, 8, 21, 28), 3109)\n",
      "(58822, '6', datetime.datetime(2023, 7, 5, 8, 21, 28), 475)\n",
      "(58823, '6', datetime.datetime(2023, 7, 5, 8, 21, 28), 584)\n",
      "(58824, '6', datetime.datetime(2023, 7, 5, 8, 21, 28), 653)\n",
      "(58825, '6', datetime.datetime(2023, 7, 5, 8, 21, 34), 179)\n",
      "(58826, '6', datetime.datetime(2023, 7, 5, 8, 21, 34), 2109)\n",
      "(58827, '6', datetime.datetime(2023, 7, 5, 8, 21, 34), 3108)\n",
      "(58828, '6', datetime.datetime(2023, 7, 5, 8, 21, 34), 475)\n",
      "(58829, '6', datetime.datetime(2023, 7, 5, 8, 21, 34), 584)\n",
      "(58830, '6', datetime.datetime(2023, 7, 5, 8, 21, 34), 652)\n",
      "(58831, '6', datetime.datetime(2023, 7, 5, 8, 21, 36), 1154)\n",
      "(58832, '6', datetime.datetime(2023, 7, 5, 8, 21, 36), 2219)\n",
      "(58833, '6', datetime.datetime(2023, 7, 5, 8, 21, 36), 3217)\n",
      "(58834, '6', datetime.datetime(2023, 7, 5, 8, 21, 36), 4210)\n",
      "(58835, '6', datetime.datetime(2023, 7, 5, 8, 21, 36), 5262)\n",
      "(58836, '6', datetime.datetime(2023, 7, 5, 8, 21, 36), 6278)\n",
      "(58837, '6', datetime.datetime(2023, 7, 5, 8, 21, 38), 1137)\n",
      "(58838, '6', datetime.datetime(2023, 7, 5, 8, 21, 38), 2198)\n",
      "(58839, '6', datetime.datetime(2023, 7, 5, 8, 21, 38), 3166)\n",
      "(58840, '6', datetime.datetime(2023, 7, 5, 8, 21, 38), 4183)\n",
      "(58841, '6', datetime.datetime(2023, 7, 5, 8, 21, 38), 5244)\n",
      "(58842, '6', datetime.datetime(2023, 7, 5, 8, 21, 38), 6291)\n"
     ]
    }
   ],
   "source": [
    "import pymysql\n",
    "\n",
    "# Establish a connection to the MySQL database\n",
    "host = 'den1.mysql6.gear.host'\n",
    "user = 'situation'\n",
    "password = 'cogni66.'\n",
    "database = 'situation'\n",
    "\n",
    "conn = pymysql.connect(host=host, user=user, password=password, database=database)\n",
    "cursor = conn.cursor()\n",
    "\n",
    "# Example: Selecting data from a table\n",
    "cursor.execute('select * from lims_timeseries where fkey_limsDevice = 6')\n",
    "rows = cursor.fetchall()\n",
    "\n",
    "for row in rows:\n",
    "    print(row)\n",
    "\n",
    "cursor.close()\n",
    "conn.close()\n"
   ]
  },
  {
   "cell_type": "code",
   "execution_count": null,
   "metadata": {},
   "outputs": [],
   "source": []
  },
  {
   "cell_type": "code",
   "execution_count": null,
   "metadata": {},
   "outputs": [],
   "source": []
  },
  {
   "cell_type": "code",
   "execution_count": null,
   "metadata": {},
   "outputs": [],
   "source": []
  },
  {
   "cell_type": "code",
   "execution_count": null,
   "metadata": {},
   "outputs": [],
   "source": []
  },
  {
   "cell_type": "code",
   "execution_count": null,
   "metadata": {},
   "outputs": [],
   "source": []
  }
 ],
 "metadata": {
  "kernelspec": {
   "display_name": "Python 3",
   "language": "python",
   "name": "python3"
  },
  "language_info": {
   "codemirror_mode": {
    "name": "ipython",
    "version": 3
   },
   "file_extension": ".py",
   "mimetype": "text/x-python",
   "name": "python",
   "nbconvert_exporter": "python",
   "pygments_lexer": "ipython3",
   "version": "3.10.6"
  },
  "orig_nbformat": 4
 },
 "nbformat": 4,
 "nbformat_minor": 2
}
